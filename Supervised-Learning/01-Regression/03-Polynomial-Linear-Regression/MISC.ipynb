{
 "cells": [
  {
   "cell_type": "markdown",
   "metadata": {},
   "source": [
    "When you use `include_bias=True` in `PolynomialFeatures`, it adds an extra column of ones to your data. This column of ones represents the **intercept** or **bias** term in the linear regression model.\n",
    "\n",
    "Why is this important?\n",
    "- In a linear regression model, the intercept is the value where the line (or curve) crosses the y-axis when all the feature values (x-values) are zero.\n",
    "- The extra column of ones ensures that the model can learn this intercept value, which is essential for making predictions even when the input features are zero.\n",
    "\n",
    "### Example:\n",
    "- Without `include_bias=True`, your data might look like this:  \n",
    "  ```\n",
    "  X = [1, 2, 3]\n",
    "  ```\n",
    "- With `include_bias=True`, the transformed data would look like this:  \n",
    "  ```\n",
    "  X_transformed = [[1, 1], [1, 2], [1, 3]]\n",
    "  ```\n",
    "  The first column of ones is the **bias** term (intercept).\n"
   ]
  }
 ],
 "metadata": {
  "language_info": {
   "name": "python"
  }
 },
 "nbformat": 4,
 "nbformat_minor": 2
}
