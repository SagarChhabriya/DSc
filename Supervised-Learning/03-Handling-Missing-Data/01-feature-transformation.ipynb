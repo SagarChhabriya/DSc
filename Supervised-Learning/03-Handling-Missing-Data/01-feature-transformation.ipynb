{
 "cells": [
  {
   "cell_type": "markdown",
   "metadata": {},
   "source": [
    "1. Missing Value Imputation\n",
    "    - Remove (drop)\n",
    "    - Impute \n",
    "        - a. Numerical\n",
    "            - Mean/Median\n",
    "            - Random\n",
    "            - End of Distribution (NMAR: Not missing at Random)\n",
    "\n",
    "        - b. Categorical\n",
    "            - Mode\n",
    "            - Missing (indicator)\n",
    "\n",
    "        <!-- - Multivariate Imputation\n",
    "            - KNN Imputer\n",
    "            - Iterative Imputer\n",
    "            - MICE (Multivariate Imputation by Chained Equations) -->\n",
    "\n",
    "\n",
    "2. Handling Categorical Features (Encoding Categorical Data)\n",
    "    - Oridnal Encoding\n",
    "    - One Hot Encoding\n",
    "        - sklearn ColumnTransformer\n",
    "    - Label Encoding\n",
    "\n",
    "4. Feature Scaling (FS)\n",
    "    - Standardization (Also called as Z-score Normalization)\n",
    "        - sklearn StandardScalar\n",
    "\n",
    "    - Normalization\n",
    "        - a. Min Max Scaling\n",
    "        - b. Mean Normalization\n",
    "        - c. Max Absolute Scaling\n",
    "        - d. Robust Scaling\n",
    "\n",
    "\n",
    "### Feature Selection\n",
    "- Forward Selection\n",
    "- Backward Elimination\n"
   ]
  }
 ],
 "metadata": {
  "language_info": {
   "name": "python"
  }
 },
 "nbformat": 4,
 "nbformat_minor": 2
}
